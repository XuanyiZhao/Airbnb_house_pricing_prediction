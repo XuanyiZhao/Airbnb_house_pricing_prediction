{
 "cells": [
  {
   "cell_type": "code",
   "execution_count": 1,
   "metadata": {},
   "outputs": [],
   "source": [
    "import pandas as pd\n",
    "import numpy as np\n",
    "import requests\n",
    "from io import StringIO\n",
    "from mpl_toolkits.mplot3d import Axes3D\n",
    "from sklearn.preprocessing import StandardScaler\n",
    "import matplotlib.pyplot as plt\n",
    "import os"
   ]
  },
  {
   "cell_type": "code",
   "execution_count": 48,
   "metadata": {},
   "outputs": [],
   "source": [
    "from sklearn.model_selection import KFold\n",
    "from sklearn.preprocessing import StandardScaler  \n",
    "from sklearn.model_selection import cross_validate\n",
    "from sklearn.model_selection import cross_val_score\n",
    "\n",
    "from sklearn.model_selection import GridSearchCV\n",
    "from sklearn.model_selection import RandomizedSearchCV\n",
    "from sklearn.preprocessing import MinMaxScaler"
   ]
  },
  {
   "cell_type": "markdown",
   "metadata": {},
   "source": [
    "# Classification on House Tiers"
   ]
  },
  {
   "cell_type": "code",
   "execution_count": 517,
   "metadata": {},
   "outputs": [],
   "source": [
    "wrangling_df_2 = wrangling_df.copy()\n",
    "\n",
    "wrangling_df_2['price'] = pd.cut(wrangling_df_2['price'],\n",
    "                                 bins = [0, 150, 300, 450, 600],\n",
    "                                 labels = [0, 1, 2, 3])\n",
    "\n",
    "wrangling_df_2['price'] = wrangling_df_2['price'].astype(int)\n",
    "\n",
    "wrangling_df_2['review_scores_rating'] = pd.cut(wrangling_df_2['review_scores_rating'],\n",
    "                                                bins = [0, 60, 70, 80, 90, 100],\n",
    "                                                labels = [0, 1, 2, 3, 4])\n",
    "\n",
    "wrangling_df_2['review_scores_rating'] = wrangling_df_2['review_scores_rating'].astype(int)"
   ]
  },
  {
   "cell_type": "code",
   "execution_count": 518,
   "metadata": {},
   "outputs": [],
   "source": [
    "classification_data = pd.get_dummies(wrangling_df_2)"
   ]
  },
  {
   "cell_type": "code",
   "execution_count": 25,
   "metadata": {},
   "outputs": [],
   "source": [
    "classification_X = merged_classification.drop(columns = ['review_scores_rating', \n",
    "                                                         'price'])\n",
    "\n",
    "classification_Y = merged_classification[['review_scores_rating',  \n",
    "                                          'price']]\n",
    "X_train_2, X_test_2, Y_train_2, Y_test_2 = train_test_split(classification_X, classification_Y, test_size = 0.20)"
   ]
  },
  {
   "cell_type": "code",
   "execution_count": 26,
   "metadata": {},
   "outputs": [
    {
     "data": {
      "text/plain": [
       "(11790, 79)"
      ]
     },
     "execution_count": 26,
     "metadata": {},
     "output_type": "execute_result"
    }
   ],
   "source": [
    "X_train_2.shape"
   ]
  },
  {
   "cell_type": "markdown",
   "metadata": {},
   "source": [
    "## For price"
   ]
  },
  {
   "cell_type": "code",
   "execution_count": 15,
   "metadata": {},
   "outputs": [],
   "source": [
    "from sklearn.metrics import accuracy_score\n",
    "from sklearn.metrics import recall_score\n",
    "from sklearn.metrics import f1_score\n",
    "from sklearn.metrics import precision_score"
   ]
  },
  {
   "cell_type": "markdown",
   "metadata": {},
   "source": [
    "### Logistic Regression"
   ]
  },
  {
   "cell_type": "code",
   "execution_count": 71,
   "metadata": {},
   "outputs": [],
   "source": [
    "from sklearn.linear_model import LogisticRegression\n",
    "\n",
    "logit = LogisticRegression(solver = 'newton-cg', multi_class = 'multinomial', penalty = 'l2', max_iter = 1000)"
   ]
  },
  {
   "cell_type": "code",
   "execution_count": 80,
   "metadata": {},
   "outputs": [
    {
     "name": "stderr",
     "output_type": "stream",
     "text": [
      "/Users/zhaoxuanyi/anaconda3/lib/python3.7/site-packages/sklearn/utils/optimize.py:203: ConvergenceWarning: newton-cg failed to converge. Increase the number of iterations.\n",
      "  \"number of iterations.\", ConvergenceWarning)\n"
     ]
    },
    {
     "data": {
      "text/plain": [
       "0.8480325644504749"
      ]
     },
     "execution_count": 80,
     "metadata": {},
     "output_type": "execute_result"
    }
   ],
   "source": [
    "classifier(logit, X_train_2, Y_train_2['price'], X_test_2, Y_test_2['price'])"
   ]
  },
  {
   "cell_type": "code",
   "execution_count": 86,
   "metadata": {},
   "outputs": [],
   "source": [
    "parameters_C = [0.00001, 0.0001, 0.001, 0.01, 0.1, 1]"
   ]
  },
  {
   "cell_type": "code",
   "execution_count": 6,
   "metadata": {},
   "outputs": [],
   "source": [
    "cv_logit = {}\n",
    "for i in parameters_C:\n",
    "    cv_logit[i] = {}\n",
    "    print (i)\n",
    "    logit = LogisticRegression(solver = 'newton-cg', multi_class = 'multinomial', penalty = 'l2', \n",
    "                               max_iter = 1000, C = i)\n",
    "    cv_results = cross_validate(logit, X_train_2, Y_train_2['price'], cv = 5, scoring = 'accuracy', \n",
    "                                return_train_score = False)\n",
    "    cv_error = np.mean(cv_results['test_score'])\n",
    "    cv_logit[i] = cv_error\n",
    "        "
   ]
  },
  {
   "cell_type": "code",
   "execution_count": 7,
   "metadata": {},
   "outputs": [],
   "source": [
    "# cv_logit"
   ]
  },
  {
   "cell_type": "code",
   "execution_count": 8,
   "metadata": {},
   "outputs": [],
   "source": [
    "parameters_C = [0.01, 0.05, 0.08, 0.1, 0.25, 0.5, 0.75]\n",
    "cv_logit_2 = {}\n",
    "for i in parameters_C:\n",
    "    cv_logit_2[i] = {}\n",
    "    print (i)\n",
    "    logit = LogisticRegression(solver = 'newton-cg', multi_class = 'multinomial', penalty = 'l2', \n",
    "                               max_iter = 1000, C = i)\n",
    "    cv_results = cross_validate(logit, X_train_2, Y_train_2['price'], cv = 5, scoring = 'accuracy', \n",
    "                                return_train_score = False)\n",
    "    cv_error = np.mean(cv_results['test_score'])\n",
    "    cv_logit_2[i] = cv_error\n",
    "        "
   ]
  },
  {
   "cell_type": "code",
   "execution_count": 9,
   "metadata": {},
   "outputs": [],
   "source": [
    "# cv_logit_2"
   ]
  },
  {
   "cell_type": "code",
   "execution_count": 10,
   "metadata": {},
   "outputs": [],
   "source": [
    "parameter_C = [0.00001, 0.0001, 0.001, 0.01, 0.05, 0.08, 0.1, 0.25, 0.5, 0.75, 1]\n",
    "logistic_cost_sen_1 = []\n",
    "logistic_cost_sen_2 = []\n",
    "for i in parameter_C:\n",
    "    tmp_clf = LogisticRegression(solver = 'newton-cg', multi_class = 'multinomial', \n",
    "                                 penalty = 'l2', max_iter = 1000, C = i).fit(X_train_2, Y_train_2['price'])\n",
    "    log_predicted_train = tmp_clf.predict(X_train_2)\n",
    "    logistic_cost_sen_1.append(accuracy_score(Y_train_2['price'], log_predicted_train))\n",
    "    \n",
    "    log_predicted_test = tmp_clf.predict(X_test_2)\n",
    "    logistic_cost_sen_2.append(accuracy_score(Y_test_2['price'], log_predicted_test))"
   ]
  },
  {
   "cell_type": "code",
   "execution_count": 11,
   "metadata": {},
   "outputs": [],
   "source": [
    "# logistic_cost_sen_1, logistic_cost_sen_2"
   ]
  },
  {
   "cell_type": "code",
   "execution_count": null,
   "metadata": {},
   "outputs": [],
   "source": []
  },
  {
   "cell_type": "code",
   "execution_count": 12,
   "metadata": {},
   "outputs": [],
   "source": [
    "parameter_C = [0.00001, 0.0001, 0.001, 0.01, 0.05, 0.08, 0.1, 0.25, 0.5, 0.75, 1]\n",
    "logistic_cost_sen_1 = []\n",
    "logistic_cost_sen_2 = []\n",
    "for i in parameter_C:\n",
    "    tmp_clf = LogisticRegression(solver = 'newton-cg', multi_class = 'multinomial', \n",
    "                                 penalty = 'l2', max_iter = 1000, C = i).fit(X_train_2, Y_train_2['price'])\n",
    "    log_predicted_train = tmp_clf.predict(X_train_2)\n",
    "    err1 = log_predicted_train - Y_train_2['price']\n",
    "    err1 = abs(err1)\n",
    "    err1 = sum(err1)/len(Y_train_2['price'])\n",
    "    logistic_cost_sen_1.append(1 - err1)\n",
    "    \n",
    "    log_predicted_test = tmp_clf.predict(X_test_2)\n",
    "    err2 = log_predicted_test - Y_test_2['price']\n",
    "    err2 = abs(err2)\n",
    "    err2 = sum(err2)/len(Y_test_2['price'])\n",
    "    logistic_cost_sen_2.append(1 - err2)"
   ]
  },
  {
   "cell_type": "code",
   "execution_count": 13,
   "metadata": {},
   "outputs": [],
   "source": [
    "# logistic_cost_sen_1, logistic_cost_sen_2"
   ]
  },
  {
   "cell_type": "code",
   "execution_count": null,
   "metadata": {},
   "outputs": [],
   "source": []
  },
  {
   "cell_type": "code",
   "execution_count": 37,
   "metadata": {},
   "outputs": [],
   "source": [
    "clf_log = LogisticRegression(solver = 'newton-cg', multi_class = 'multinomial', penalty = 'l2', \n",
    "                             max_iter = 1000, C = 0.75)\n",
    "clf_log.fit(X_train_2, Y_train_2['price'])\n",
    "log_predicted = clf_log.predict(X_test_2)\n",
    "\n",
    "log_accuracy = accuracy_score(Y_test_2['price'], log_predicted)\n",
    "log_precision = precision_score(Y_test_2['price'], log_predicted, average = None)\n",
    "log_recall = recall_score(Y_test_2['price'], log_predicted, average = None)\n"
   ]
  },
  {
   "cell_type": "code",
   "execution_count": 38,
   "metadata": {},
   "outputs": [
    {
     "name": "stdout",
     "output_type": "stream",
     "text": [
      "0.6028445691130757\n",
      "0.45797420213094064\n",
      "0.5205172985858187\n"
     ]
    }
   ],
   "source": [
    "from scipy.stats import mstats\n",
    "print (mstats.gmean(log_precision))\n",
    "print (mstats.gmean(log_recall))\n",
    "print (2 * mstats.gmean(log_precision) * mstats.gmean(log_recall) / (mstats.gmean(log_precision) + mstats.gmean(log_recall)))"
   ]
  },
  {
   "cell_type": "code",
   "execution_count": null,
   "metadata": {},
   "outputs": [],
   "source": []
  },
  {
   "cell_type": "code",
   "execution_count": 523,
   "metadata": {},
   "outputs": [
    {
     "data": {
      "text/html": [
       "<div>\n",
       "<style scoped>\n",
       "    .dataframe tbody tr th:only-of-type {\n",
       "        vertical-align: middle;\n",
       "    }\n",
       "\n",
       "    .dataframe tbody tr th {\n",
       "        vertical-align: top;\n",
       "    }\n",
       "\n",
       "    .dataframe thead th {\n",
       "        text-align: right;\n",
       "    }\n",
       "</style>\n",
       "<table border=\"1\" class=\"dataframe\">\n",
       "  <thead>\n",
       "    <tr style=\"text-align: right;\">\n",
       "      <th></th>\n",
       "      <th>mean_fit_time</th>\n",
       "      <th>std_fit_time</th>\n",
       "      <th>mean_score_time</th>\n",
       "      <th>std_score_time</th>\n",
       "      <th>param_C</th>\n",
       "      <th>params</th>\n",
       "      <th>split0_test_score</th>\n",
       "      <th>split1_test_score</th>\n",
       "      <th>split2_test_score</th>\n",
       "      <th>split3_test_score</th>\n",
       "      <th>split4_test_score</th>\n",
       "      <th>mean_test_score</th>\n",
       "      <th>std_test_score</th>\n",
       "      <th>rank_test_score</th>\n",
       "    </tr>\n",
       "  </thead>\n",
       "  <tbody>\n",
       "    <tr>\n",
       "      <th>0</th>\n",
       "      <td>0.920999</td>\n",
       "      <td>0.094248</td>\n",
       "      <td>0.001391</td>\n",
       "      <td>0.000211</td>\n",
       "      <td>0.001</td>\n",
       "      <td>{'C': 0.001}</td>\n",
       "      <td>0.824576</td>\n",
       "      <td>0.830085</td>\n",
       "      <td>0.822656</td>\n",
       "      <td>0.824353</td>\n",
       "      <td>0.816214</td>\n",
       "      <td>0.823579</td>\n",
       "      <td>0.004450</td>\n",
       "      <td>6</td>\n",
       "    </tr>\n",
       "    <tr>\n",
       "      <th>1</th>\n",
       "      <td>1.599175</td>\n",
       "      <td>0.214700</td>\n",
       "      <td>0.001443</td>\n",
       "      <td>0.000249</td>\n",
       "      <td>0.01</td>\n",
       "      <td>{'C': 0.01}</td>\n",
       "      <td>0.838136</td>\n",
       "      <td>0.845339</td>\n",
       "      <td>0.838354</td>\n",
       "      <td>0.829020</td>\n",
       "      <td>0.837861</td>\n",
       "      <td>0.837744</td>\n",
       "      <td>0.005184</td>\n",
       "      <td>5</td>\n",
       "    </tr>\n",
       "    <tr>\n",
       "      <th>2</th>\n",
       "      <td>5.782848</td>\n",
       "      <td>1.224988</td>\n",
       "      <td>0.001367</td>\n",
       "      <td>0.000036</td>\n",
       "      <td>0.1</td>\n",
       "      <td>{'C': 0.1}</td>\n",
       "      <td>0.839407</td>\n",
       "      <td>0.851695</td>\n",
       "      <td>0.841748</td>\n",
       "      <td>0.839202</td>\n",
       "      <td>0.839134</td>\n",
       "      <td>0.842239</td>\n",
       "      <td>0.004829</td>\n",
       "      <td>4</td>\n",
       "    </tr>\n",
       "    <tr>\n",
       "      <th>3</th>\n",
       "      <td>7.003334</td>\n",
       "      <td>0.986323</td>\n",
       "      <td>0.001634</td>\n",
       "      <td>0.000074</td>\n",
       "      <td>1</td>\n",
       "      <td>{'C': 1}</td>\n",
       "      <td>0.844068</td>\n",
       "      <td>0.853814</td>\n",
       "      <td>0.842172</td>\n",
       "      <td>0.842172</td>\n",
       "      <td>0.837861</td>\n",
       "      <td>0.844020</td>\n",
       "      <td>0.005305</td>\n",
       "      <td>1</td>\n",
       "    </tr>\n",
       "    <tr>\n",
       "      <th>4</th>\n",
       "      <td>6.853088</td>\n",
       "      <td>0.349467</td>\n",
       "      <td>0.001916</td>\n",
       "      <td>0.000396</td>\n",
       "      <td>10</td>\n",
       "      <td>{'C': 10}</td>\n",
       "      <td>0.842373</td>\n",
       "      <td>0.854237</td>\n",
       "      <td>0.843869</td>\n",
       "      <td>0.840475</td>\n",
       "      <td>0.837861</td>\n",
       "      <td>0.843766</td>\n",
       "      <td>0.005610</td>\n",
       "      <td>2</td>\n",
       "    </tr>\n",
       "    <tr>\n",
       "      <th>5</th>\n",
       "      <td>7.282722</td>\n",
       "      <td>0.522087</td>\n",
       "      <td>0.001622</td>\n",
       "      <td>0.000049</td>\n",
       "      <td>100</td>\n",
       "      <td>{'C': 100}</td>\n",
       "      <td>0.841525</td>\n",
       "      <td>0.854237</td>\n",
       "      <td>0.844294</td>\n",
       "      <td>0.839627</td>\n",
       "      <td>0.838285</td>\n",
       "      <td>0.843596</td>\n",
       "      <td>0.005693</td>\n",
       "      <td>3</td>\n",
       "    </tr>\n",
       "  </tbody>\n",
       "</table>\n",
       "</div>"
      ],
      "text/plain": [
       "   mean_fit_time  std_fit_time  mean_score_time  std_score_time param_C  \\\n",
       "0       0.920999      0.094248         0.001391        0.000211   0.001   \n",
       "1       1.599175      0.214700         0.001443        0.000249    0.01   \n",
       "2       5.782848      1.224988         0.001367        0.000036     0.1   \n",
       "3       7.003334      0.986323         0.001634        0.000074       1   \n",
       "4       6.853088      0.349467         0.001916        0.000396      10   \n",
       "5       7.282722      0.522087         0.001622        0.000049     100   \n",
       "\n",
       "         params  split0_test_score  split1_test_score  split2_test_score  \\\n",
       "0  {'C': 0.001}           0.824576           0.830085           0.822656   \n",
       "1   {'C': 0.01}           0.838136           0.845339           0.838354   \n",
       "2    {'C': 0.1}           0.839407           0.851695           0.841748   \n",
       "3      {'C': 1}           0.844068           0.853814           0.842172   \n",
       "4     {'C': 10}           0.842373           0.854237           0.843869   \n",
       "5    {'C': 100}           0.841525           0.854237           0.844294   \n",
       "\n",
       "   split3_test_score  split4_test_score  mean_test_score  std_test_score  \\\n",
       "0           0.824353           0.816214         0.823579        0.004450   \n",
       "1           0.829020           0.837861         0.837744        0.005184   \n",
       "2           0.839202           0.839134         0.842239        0.004829   \n",
       "3           0.842172           0.837861         0.844020        0.005305   \n",
       "4           0.840475           0.837861         0.843766        0.005610   \n",
       "5           0.839627           0.838285         0.843596        0.005693   \n",
       "\n",
       "   rank_test_score  \n",
       "0                6  \n",
       "1                5  \n",
       "2                4  \n",
       "3                1  \n",
       "4                2  \n",
       "5                3  "
      ]
     },
     "execution_count": 523,
     "metadata": {},
     "output_type": "execute_result"
    }
   ],
   "source": [
    "logistic_results_accu = clf.cv_results_\n",
    "logistic_accu = pd.DataFrame(logistic_results_accu)\n",
    "logistic_accu"
   ]
  },
  {
   "cell_type": "code",
   "execution_count": null,
   "metadata": {},
   "outputs": [],
   "source": []
  },
  {
   "cell_type": "markdown",
   "metadata": {},
   "source": [
    "### SVM"
   ]
  },
  {
   "cell_type": "code",
   "execution_count": 43,
   "metadata": {},
   "outputs": [],
   "source": [
    "from sklearn.svm import SVC\n",
    "svc = SVC(kernel = 'rbf', decision_function_shape = 'ovr')"
   ]
  },
  {
   "cell_type": "code",
   "execution_count": 97,
   "metadata": {},
   "outputs": [],
   "source": [
    "parameters_C = [0.001, 0.01, 0.1, 1, 10, 100]\n",
    "parameters_gamma = [0.001, 0.01, 0.1, 1, 10, 100]"
   ]
  },
  {
   "cell_type": "code",
   "execution_count": 96,
   "metadata": {},
   "outputs": [],
   "source": [
    "cv_svm_accu = {}\n",
    "for i in parameters_gamma:\n",
    "    cv_svm_accu[i] = {}\n",
    "    print (i)\n",
    "    for j in parameters_C:\n",
    "        print (j)\n",
    "        svc = SVC(kernel = 'rbf', decision_function_shape = 'ovr', C = j, gamma = i)\n",
    "        cv_results = cross_validate(svc, X_train_2, Y_train_2['price'], cv = 5, scoring = 'accuracy', \n",
    "                                    return_train_score = False)\n",
    "        cv_error = np.mean(cv_results['test_score'])\n",
    "        cv_svm_accu[i][j] = cv_error"
   ]
  },
  {
   "cell_type": "code",
   "execution_count": 14,
   "metadata": {},
   "outputs": [],
   "source": [
    "# cv_svm_accu"
   ]
  },
  {
   "cell_type": "code",
   "execution_count": 44,
   "metadata": {},
   "outputs": [
    {
     "name": "stdout",
     "output_type": "stream",
     "text": [
      "0.8525869380831212\n",
      "0.842944369063772\n"
     ]
    }
   ],
   "source": [
    "clf = SVC(kernel = 'poly', degree = 2, C = 0.1, gamma = 1/d, \n",
    "          decision_function_shape = 'ovr').fit(X_train_2, Y_train_2['price'])\n",
    "svm_predicted_train = clf.predict(X_train_2)\n",
    "print (accuracy_score(Y_train_2['price'], svm_predicted_train))\n",
    "    \n",
    "svm_predicted_test = clf.predict(X_test_2)\n",
    "print (accuracy_score(Y_test_2['price'], svm_predicted_test))"
   ]
  },
  {
   "cell_type": "code",
   "execution_count": 45,
   "metadata": {},
   "outputs": [
    {
     "name": "stdout",
     "output_type": "stream",
     "text": [
      "0.8407972858354538\n",
      "0.8300542740841248\n"
     ]
    }
   ],
   "source": [
    "svm_predicted_train = clf.predict(X_train_2)\n",
    "err1 = svm_predicted_train - Y_train_2['price']\n",
    "err1 = abs(err1)\n",
    "err1 = sum(err1)/len(Y_train_2['price'])\n",
    "print (1 - err1)\n",
    "\n",
    "svm_predicted_test = clf.predict(X_test_2)\n",
    "err2 = svm_predicted_test - Y_test_2['price']\n",
    "err2 = abs(err2)\n",
    "err2 = sum(err2)/len(Y_test_2['price'])\n",
    "print (1 - err2)"
   ]
  },
  {
   "cell_type": "code",
   "execution_count": 59,
   "metadata": {},
   "outputs": [
    {
     "data": {
      "text/plain": [
       "(0.842944369063772,\n",
       " array([0.90936953, 0.62360447, 0.5       , 0.44      ]),\n",
       " array([0.95318954, 0.65275459, 0.04918033, 0.22916667]),\n",
       " array([0.93076406, 0.63784666, 0.08955224, 0.30136986]))"
      ]
     },
     "execution_count": 59,
     "metadata": {},
     "output_type": "execute_result"
    }
   ],
   "source": [
    "clf_svm = SVC(kernel = 'poly', degree = 2, decision_function_shape = 'ovr', C = 0.1, gamma = 1/d)\n",
    "clf_svm.fit(X_train_2, Y_train_2['price'])\n",
    "svm_predicted = clf_svm.predict(X_test_2)\n",
    "\n",
    "svm_accuracy = accuracy_score(Y_test_2['price'], svm_predicted)\n",
    "svm_precision = precision_score(Y_test_2['price'], svm_predicted, average = None)\n",
    "svm_recall = recall_score(Y_test_2['price'], svm_predicted, average = None)\n",
    "svm_f1 = f1_score(Y_test_2['price'], svm_predicted, average = None)\n",
    "\n",
    "svm_accuracy, svm_precision, svm_recall, svm_f1"
   ]
  },
  {
   "cell_type": "code",
   "execution_count": 61,
   "metadata": {},
   "outputs": [
    {
     "name": "stdout",
     "output_type": "stream",
     "text": [
      "0.5943168911762592\n",
      "0.28937967009827\n",
      "0.3892359287997433\n"
     ]
    }
   ],
   "source": [
    "from scipy.stats import mstats\n",
    "print (mstats.gmean(svm_precision))\n",
    "print (mstats.gmean(svm_recall))\n",
    "print (2 * mstats.gmean(svm_precision) * mstats.gmean(svm_recall) / (mstats.gmean(svm_precision) + mstats.gmean(svm_recall)))\n"
   ]
  },
  {
   "cell_type": "code",
   "execution_count": null,
   "metadata": {},
   "outputs": [],
   "source": []
  },
  {
   "cell_type": "code",
   "execution_count": 21,
   "metadata": {},
   "outputs": [],
   "source": [
    "cv_svm_poly = {}\n",
    "parameters_C = [0.0001, 0.001, 0.01, 0.1]\n",
    "for j in parameters_C:\n",
    "    print (j)\n",
    "    svc = SVC(kernel = 'poly', degree = 2, C = j, gamma = 1/d, decision_function_shape = 'ovr')\n",
    "    cv_results = cross_validate(svc, X_train_2, Y_train_2['price'], cv = 5, return_train_score = False)\n",
    "    cv_error = np.mean(cv_results['test_score'])\n",
    "    cv_svm_poly[j] = cv_error"
   ]
  },
  {
   "cell_type": "code",
   "execution_count": 17,
   "metadata": {},
   "outputs": [],
   "source": [
    "# cv_svm_poly"
   ]
  },
  {
   "cell_type": "code",
   "execution_count": 31,
   "metadata": {},
   "outputs": [
    {
     "data": {
      "text/plain": [
       "(0.828697421981004,\n",
       " array([0.89888641, 0.63870968, 0.3125    , 0.4       ]),\n",
       " array([0.93904141, 0.62068966, 0.13636364, 0.2745098 ]),\n",
       " array([0.91852526, 0.62957075, 0.18987342, 0.3255814 ]))"
      ]
     },
     "execution_count": 31,
     "metadata": {},
     "output_type": "execute_result"
    }
   ],
   "source": [
    "clf_svm = SVC(kernel = 'rbf', decision_function_shape = 'ovr', C = 100, gamma = 0.001)\n",
    "clf_svm.fit(X_train_2, Y_train_2['price'])\n",
    "svm_predicted = clf_svm.predict(X_test_2)\n",
    "\n",
    "svm_accuracy = accuracy_score(Y_test_2['price'], svm_predicted)\n",
    "svm_precision = precision_score(Y_test_2['price'], svm_predicted, average = None)\n",
    "svm_recall = recall_score(Y_test_2['price'], svm_predicted, average = None)\n",
    "svm_f1 = f1_score(Y_test_2['price'], svm_predicted, average = None)\n",
    "\n",
    "svm_accuracy, svm_precision, svm_recall, svm_f1"
   ]
  },
  {
   "cell_type": "code",
   "execution_count": 32,
   "metadata": {},
   "outputs": [
    {
     "name": "stdout",
     "output_type": "stream",
     "text": [
      "0.5175824970637538\n",
      "0.38432967775520693\n",
      "0.4411123829172772\n"
     ]
    }
   ],
   "source": [
    "print (mstats.gmean(svm_precision))\n",
    "print (mstats.gmean(svm_recall))\n",
    "print (2 * mstats.gmean(svm_precision) * mstats.gmean(svm_recall) / (mstats.gmean(svm_precision) + mstats.gmean(svm_recall)))\n"
   ]
  },
  {
   "cell_type": "code",
   "execution_count": 68,
   "metadata": {},
   "outputs": [
    {
     "data": {
      "text/html": [
       "<div>\n",
       "<style scoped>\n",
       "    .dataframe tbody tr th:only-of-type {\n",
       "        vertical-align: middle;\n",
       "    }\n",
       "\n",
       "    .dataframe tbody tr th {\n",
       "        vertical-align: top;\n",
       "    }\n",
       "\n",
       "    .dataframe thead th {\n",
       "        text-align: right;\n",
       "    }\n",
       "</style>\n",
       "<table border=\"1\" class=\"dataframe\">\n",
       "  <thead>\n",
       "    <tr style=\"text-align: right;\">\n",
       "      <th></th>\n",
       "      <th>mean_fit_time</th>\n",
       "      <th>std_fit_time</th>\n",
       "      <th>mean_score_time</th>\n",
       "      <th>std_score_time</th>\n",
       "      <th>param_C</th>\n",
       "      <th>params</th>\n",
       "      <th>split0_test_score</th>\n",
       "      <th>split1_test_score</th>\n",
       "      <th>split2_test_score</th>\n",
       "      <th>split3_test_score</th>\n",
       "      <th>split4_test_score</th>\n",
       "      <th>mean_test_score</th>\n",
       "      <th>std_test_score</th>\n",
       "      <th>rank_test_score</th>\n",
       "    </tr>\n",
       "  </thead>\n",
       "  <tbody>\n",
       "    <tr>\n",
       "      <th>0</th>\n",
       "      <td>4.974098</td>\n",
       "      <td>0.725787</td>\n",
       "      <td>0.869767</td>\n",
       "      <td>0.134666</td>\n",
       "      <td>0.001</td>\n",
       "      <td>{'C': 0.001}</td>\n",
       "      <td>0.740788</td>\n",
       "      <td>0.741102</td>\n",
       "      <td>0.741416</td>\n",
       "      <td>0.741416</td>\n",
       "      <td>0.741621</td>\n",
       "      <td>0.741268</td>\n",
       "      <td>0.000292</td>\n",
       "      <td>9</td>\n",
       "    </tr>\n",
       "    <tr>\n",
       "      <th>1</th>\n",
       "      <td>4.873193</td>\n",
       "      <td>0.199113</td>\n",
       "      <td>0.810449</td>\n",
       "      <td>0.017835</td>\n",
       "      <td>0.01</td>\n",
       "      <td>{'C': 0.01}</td>\n",
       "      <td>0.740788</td>\n",
       "      <td>0.741102</td>\n",
       "      <td>0.741416</td>\n",
       "      <td>0.741416</td>\n",
       "      <td>0.741621</td>\n",
       "      <td>0.741268</td>\n",
       "      <td>0.000292</td>\n",
       "      <td>9</td>\n",
       "    </tr>\n",
       "    <tr>\n",
       "      <th>2</th>\n",
       "      <td>4.841355</td>\n",
       "      <td>0.077862</td>\n",
       "      <td>0.816604</td>\n",
       "      <td>0.014192</td>\n",
       "      <td>0.1</td>\n",
       "      <td>{'C': 0.1}</td>\n",
       "      <td>0.775942</td>\n",
       "      <td>0.782203</td>\n",
       "      <td>0.772361</td>\n",
       "      <td>0.791437</td>\n",
       "      <td>0.780653</td>\n",
       "      <td>0.780519</td>\n",
       "      <td>0.006474</td>\n",
       "      <td>8</td>\n",
       "    </tr>\n",
       "    <tr>\n",
       "      <th>3</th>\n",
       "      <td>5.019114</td>\n",
       "      <td>0.218842</td>\n",
       "      <td>0.791998</td>\n",
       "      <td>0.009601</td>\n",
       "      <td>1</td>\n",
       "      <td>{'C': 1}</td>\n",
       "      <td>0.809826</td>\n",
       "      <td>0.801271</td>\n",
       "      <td>0.798220</td>\n",
       "      <td>0.815600</td>\n",
       "      <td>0.807382</td>\n",
       "      <td>0.806460</td>\n",
       "      <td>0.006173</td>\n",
       "      <td>5</td>\n",
       "    </tr>\n",
       "    <tr>\n",
       "      <th>4</th>\n",
       "      <td>5.034652</td>\n",
       "      <td>0.141783</td>\n",
       "      <td>0.759000</td>\n",
       "      <td>0.010953</td>\n",
       "      <td>5</td>\n",
       "      <td>{'C': 5}</td>\n",
       "      <td>0.818297</td>\n",
       "      <td>0.806356</td>\n",
       "      <td>0.809241</td>\n",
       "      <td>0.825350</td>\n",
       "      <td>0.808231</td>\n",
       "      <td>0.813496</td>\n",
       "      <td>0.007216</td>\n",
       "      <td>1</td>\n",
       "    </tr>\n",
       "    <tr>\n",
       "      <th>5</th>\n",
       "      <td>5.129208</td>\n",
       "      <td>0.052115</td>\n",
       "      <td>0.762118</td>\n",
       "      <td>0.012205</td>\n",
       "      <td>10</td>\n",
       "      <td>{'C': 10}</td>\n",
       "      <td>0.814485</td>\n",
       "      <td>0.807627</td>\n",
       "      <td>0.810513</td>\n",
       "      <td>0.819415</td>\n",
       "      <td>0.805261</td>\n",
       "      <td>0.811462</td>\n",
       "      <td>0.005028</td>\n",
       "      <td>2</td>\n",
       "    </tr>\n",
       "    <tr>\n",
       "      <th>6</th>\n",
       "      <td>5.392540</td>\n",
       "      <td>0.069976</td>\n",
       "      <td>0.763929</td>\n",
       "      <td>0.012168</td>\n",
       "      <td>15</td>\n",
       "      <td>{'C': 15}</td>\n",
       "      <td>0.812791</td>\n",
       "      <td>0.805085</td>\n",
       "      <td>0.806698</td>\n",
       "      <td>0.818567</td>\n",
       "      <td>0.805261</td>\n",
       "      <td>0.809681</td>\n",
       "      <td>0.005257</td>\n",
       "      <td>3</td>\n",
       "    </tr>\n",
       "    <tr>\n",
       "      <th>7</th>\n",
       "      <td>5.703376</td>\n",
       "      <td>0.081080</td>\n",
       "      <td>0.782457</td>\n",
       "      <td>0.010330</td>\n",
       "      <td>20</td>\n",
       "      <td>{'C': 20}</td>\n",
       "      <td>0.815756</td>\n",
       "      <td>0.803814</td>\n",
       "      <td>0.804154</td>\n",
       "      <td>0.816448</td>\n",
       "      <td>0.801018</td>\n",
       "      <td>0.808240</td>\n",
       "      <td>0.006516</td>\n",
       "      <td>4</td>\n",
       "    </tr>\n",
       "    <tr>\n",
       "      <th>8</th>\n",
       "      <td>6.674282</td>\n",
       "      <td>0.284727</td>\n",
       "      <td>0.780624</td>\n",
       "      <td>0.016631</td>\n",
       "      <td>50</td>\n",
       "      <td>{'C': 50}</td>\n",
       "      <td>0.798391</td>\n",
       "      <td>0.794068</td>\n",
       "      <td>0.791861</td>\n",
       "      <td>0.799491</td>\n",
       "      <td>0.789563</td>\n",
       "      <td>0.794676</td>\n",
       "      <td>0.003779</td>\n",
       "      <td>6</td>\n",
       "    </tr>\n",
       "    <tr>\n",
       "      <th>9</th>\n",
       "      <td>7.310674</td>\n",
       "      <td>0.103865</td>\n",
       "      <td>0.758278</td>\n",
       "      <td>0.010437</td>\n",
       "      <td>100</td>\n",
       "      <td>{'C': 100}</td>\n",
       "      <td>0.789072</td>\n",
       "      <td>0.784322</td>\n",
       "      <td>0.785502</td>\n",
       "      <td>0.796100</td>\n",
       "      <td>0.784896</td>\n",
       "      <td>0.787979</td>\n",
       "      <td>0.004385</td>\n",
       "      <td>7</td>\n",
       "    </tr>\n",
       "  </tbody>\n",
       "</table>\n",
       "</div>"
      ],
      "text/plain": [
       "   mean_fit_time  std_fit_time  mean_score_time  std_score_time param_C  \\\n",
       "0       4.974098      0.725787         0.869767        0.134666   0.001   \n",
       "1       4.873193      0.199113         0.810449        0.017835    0.01   \n",
       "2       4.841355      0.077862         0.816604        0.014192     0.1   \n",
       "3       5.019114      0.218842         0.791998        0.009601       1   \n",
       "4       5.034652      0.141783         0.759000        0.010953       5   \n",
       "5       5.129208      0.052115         0.762118        0.012205      10   \n",
       "6       5.392540      0.069976         0.763929        0.012168      15   \n",
       "7       5.703376      0.081080         0.782457        0.010330      20   \n",
       "8       6.674282      0.284727         0.780624        0.016631      50   \n",
       "9       7.310674      0.103865         0.758278        0.010437     100   \n",
       "\n",
       "         params  split0_test_score  split1_test_score  split2_test_score  \\\n",
       "0  {'C': 0.001}           0.740788           0.741102           0.741416   \n",
       "1   {'C': 0.01}           0.740788           0.741102           0.741416   \n",
       "2    {'C': 0.1}           0.775942           0.782203           0.772361   \n",
       "3      {'C': 1}           0.809826           0.801271           0.798220   \n",
       "4      {'C': 5}           0.818297           0.806356           0.809241   \n",
       "5     {'C': 10}           0.814485           0.807627           0.810513   \n",
       "6     {'C': 15}           0.812791           0.805085           0.806698   \n",
       "7     {'C': 20}           0.815756           0.803814           0.804154   \n",
       "8     {'C': 50}           0.798391           0.794068           0.791861   \n",
       "9    {'C': 100}           0.789072           0.784322           0.785502   \n",
       "\n",
       "   split3_test_score  split4_test_score  mean_test_score  std_test_score  \\\n",
       "0           0.741416           0.741621         0.741268        0.000292   \n",
       "1           0.741416           0.741621         0.741268        0.000292   \n",
       "2           0.791437           0.780653         0.780519        0.006474   \n",
       "3           0.815600           0.807382         0.806460        0.006173   \n",
       "4           0.825350           0.808231         0.813496        0.007216   \n",
       "5           0.819415           0.805261         0.811462        0.005028   \n",
       "6           0.818567           0.805261         0.809681        0.005257   \n",
       "7           0.816448           0.801018         0.808240        0.006516   \n",
       "8           0.799491           0.789563         0.794676        0.003779   \n",
       "9           0.796100           0.784896         0.787979        0.004385   \n",
       "\n",
       "   rank_test_score  \n",
       "0                9  \n",
       "1                9  \n",
       "2                8  \n",
       "3                5  \n",
       "4                1  \n",
       "5                2  \n",
       "6                3  \n",
       "7                4  \n",
       "8                6  \n",
       "9                7  "
      ]
     },
     "execution_count": 68,
     "metadata": {},
     "output_type": "execute_result"
    }
   ],
   "source": [
    "svm_results_accu = clf.cv_results_\n",
    "svm_accu = pd.DataFrame(svm_results_accu)\n",
    "svm_accu"
   ]
  },
  {
   "cell_type": "code",
   "execution_count": 69,
   "metadata": {},
   "outputs": [
    {
     "data": {
      "text/plain": [
       "GridSearchCV(cv=5, error_score='raise-deprecating',\n",
       "       estimator=SVC(C=1.0, cache_size=200, class_weight=None, coef0=0.0,\n",
       "  decision_function_shape='ovr', degree=3, gamma=0.01282051282051282,\n",
       "  kernel='rbf', max_iter=-1, probability=False, random_state=None,\n",
       "  shrinking=True, tol=0.001, verbose=False),\n",
       "       fit_params=None, iid='warn', n_jobs=None,\n",
       "       param_grid={'C': [1, 2, 3, 4, 5, 6, 7, 8, 9, 10]},\n",
       "       pre_dispatch='2*n_jobs', refit=True, return_train_score=False,\n",
       "       scoring='accuracy', verbose=0)"
      ]
     },
     "execution_count": 69,
     "metadata": {},
     "output_type": "execute_result"
    }
   ],
   "source": [
    "parameters2 = {'C':[1,2,3,4,5,6,7,8,9,10]}\n",
    "clf2 = GridSearchCV(svc, parameters2, cv = 5, scoring = 'accuracy', return_train_score = False)\n",
    "clf2.fit(X_train_2, Y_train_2['price'])"
   ]
  },
  {
   "cell_type": "code",
   "execution_count": 70,
   "metadata": {},
   "outputs": [
    {
     "data": {
      "text/html": [
       "<div>\n",
       "<style scoped>\n",
       "    .dataframe tbody tr th:only-of-type {\n",
       "        vertical-align: middle;\n",
       "    }\n",
       "\n",
       "    .dataframe tbody tr th {\n",
       "        vertical-align: top;\n",
       "    }\n",
       "\n",
       "    .dataframe thead th {\n",
       "        text-align: right;\n",
       "    }\n",
       "</style>\n",
       "<table border=\"1\" class=\"dataframe\">\n",
       "  <thead>\n",
       "    <tr style=\"text-align: right;\">\n",
       "      <th></th>\n",
       "      <th>mean_fit_time</th>\n",
       "      <th>std_fit_time</th>\n",
       "      <th>mean_score_time</th>\n",
       "      <th>std_score_time</th>\n",
       "      <th>param_C</th>\n",
       "      <th>params</th>\n",
       "      <th>split0_test_score</th>\n",
       "      <th>split1_test_score</th>\n",
       "      <th>split2_test_score</th>\n",
       "      <th>split3_test_score</th>\n",
       "      <th>split4_test_score</th>\n",
       "      <th>mean_test_score</th>\n",
       "      <th>std_test_score</th>\n",
       "      <th>rank_test_score</th>\n",
       "    </tr>\n",
       "  </thead>\n",
       "  <tbody>\n",
       "    <tr>\n",
       "      <th>0</th>\n",
       "      <td>4.664549</td>\n",
       "      <td>0.062252</td>\n",
       "      <td>0.761767</td>\n",
       "      <td>0.004802</td>\n",
       "      <td>1</td>\n",
       "      <td>{'C': 1}</td>\n",
       "      <td>0.809826</td>\n",
       "      <td>0.801271</td>\n",
       "      <td>0.798220</td>\n",
       "      <td>0.815600</td>\n",
       "      <td>0.807382</td>\n",
       "      <td>0.806460</td>\n",
       "      <td>0.006173</td>\n",
       "      <td>10</td>\n",
       "    </tr>\n",
       "    <tr>\n",
       "      <th>1</th>\n",
       "      <td>4.720364</td>\n",
       "      <td>0.034192</td>\n",
       "      <td>0.756562</td>\n",
       "      <td>0.011091</td>\n",
       "      <td>2</td>\n",
       "      <td>{'C': 2}</td>\n",
       "      <td>0.815332</td>\n",
       "      <td>0.809322</td>\n",
       "      <td>0.805002</td>\n",
       "      <td>0.819415</td>\n",
       "      <td>0.808655</td>\n",
       "      <td>0.811546</td>\n",
       "      <td>0.005145</td>\n",
       "      <td>8</td>\n",
       "    </tr>\n",
       "    <tr>\n",
       "      <th>2</th>\n",
       "      <td>4.807243</td>\n",
       "      <td>0.079313</td>\n",
       "      <td>0.753025</td>\n",
       "      <td>0.004718</td>\n",
       "      <td>3</td>\n",
       "      <td>{'C': 3}</td>\n",
       "      <td>0.816180</td>\n",
       "      <td>0.808051</td>\n",
       "      <td>0.808393</td>\n",
       "      <td>0.821958</td>\n",
       "      <td>0.809079</td>\n",
       "      <td>0.812733</td>\n",
       "      <td>0.005497</td>\n",
       "      <td>5</td>\n",
       "    </tr>\n",
       "    <tr>\n",
       "      <th>3</th>\n",
       "      <td>4.851769</td>\n",
       "      <td>0.050011</td>\n",
       "      <td>0.749426</td>\n",
       "      <td>0.002672</td>\n",
       "      <td>4</td>\n",
       "      <td>{'C': 4}</td>\n",
       "      <td>0.817874</td>\n",
       "      <td>0.807627</td>\n",
       "      <td>0.807969</td>\n",
       "      <td>0.824502</td>\n",
       "      <td>0.808655</td>\n",
       "      <td>0.813327</td>\n",
       "      <td>0.006761</td>\n",
       "      <td>2</td>\n",
       "    </tr>\n",
       "    <tr>\n",
       "      <th>4</th>\n",
       "      <td>4.883755</td>\n",
       "      <td>0.052473</td>\n",
       "      <td>0.757691</td>\n",
       "      <td>0.015005</td>\n",
       "      <td>5</td>\n",
       "      <td>{'C': 5}</td>\n",
       "      <td>0.818297</td>\n",
       "      <td>0.806356</td>\n",
       "      <td>0.809241</td>\n",
       "      <td>0.825350</td>\n",
       "      <td>0.808231</td>\n",
       "      <td>0.813496</td>\n",
       "      <td>0.007216</td>\n",
       "      <td>1</td>\n",
       "    </tr>\n",
       "    <tr>\n",
       "      <th>5</th>\n",
       "      <td>4.961843</td>\n",
       "      <td>0.057992</td>\n",
       "      <td>0.754562</td>\n",
       "      <td>0.012273</td>\n",
       "      <td>6</td>\n",
       "      <td>{'C': 6}</td>\n",
       "      <td>0.817027</td>\n",
       "      <td>0.805085</td>\n",
       "      <td>0.811785</td>\n",
       "      <td>0.824502</td>\n",
       "      <td>0.808231</td>\n",
       "      <td>0.813327</td>\n",
       "      <td>0.006853</td>\n",
       "      <td>2</td>\n",
       "    </tr>\n",
       "    <tr>\n",
       "      <th>6</th>\n",
       "      <td>5.012021</td>\n",
       "      <td>0.064646</td>\n",
       "      <td>0.750877</td>\n",
       "      <td>0.003800</td>\n",
       "      <td>7</td>\n",
       "      <td>{'C': 7}</td>\n",
       "      <td>0.817027</td>\n",
       "      <td>0.805932</td>\n",
       "      <td>0.810089</td>\n",
       "      <td>0.823230</td>\n",
       "      <td>0.807382</td>\n",
       "      <td>0.812733</td>\n",
       "      <td>0.006488</td>\n",
       "      <td>5</td>\n",
       "    </tr>\n",
       "    <tr>\n",
       "      <th>7</th>\n",
       "      <td>5.115804</td>\n",
       "      <td>0.092151</td>\n",
       "      <td>0.762855</td>\n",
       "      <td>0.007863</td>\n",
       "      <td>8</td>\n",
       "      <td>{'C': 8}</td>\n",
       "      <td>0.815756</td>\n",
       "      <td>0.809322</td>\n",
       "      <td>0.810513</td>\n",
       "      <td>0.821535</td>\n",
       "      <td>0.807382</td>\n",
       "      <td>0.812903</td>\n",
       "      <td>0.005131</td>\n",
       "      <td>4</td>\n",
       "    </tr>\n",
       "    <tr>\n",
       "      <th>8</th>\n",
       "      <td>5.533539</td>\n",
       "      <td>0.277503</td>\n",
       "      <td>0.791410</td>\n",
       "      <td>0.020271</td>\n",
       "      <td>9</td>\n",
       "      <td>{'C': 9}</td>\n",
       "      <td>0.814485</td>\n",
       "      <td>0.808898</td>\n",
       "      <td>0.810937</td>\n",
       "      <td>0.818991</td>\n",
       "      <td>0.807807</td>\n",
       "      <td>0.812224</td>\n",
       "      <td>0.004077</td>\n",
       "      <td>7</td>\n",
       "    </tr>\n",
       "    <tr>\n",
       "      <th>9</th>\n",
       "      <td>5.456171</td>\n",
       "      <td>0.465471</td>\n",
       "      <td>0.768293</td>\n",
       "      <td>0.008541</td>\n",
       "      <td>10</td>\n",
       "      <td>{'C': 10}</td>\n",
       "      <td>0.814485</td>\n",
       "      <td>0.807627</td>\n",
       "      <td>0.810513</td>\n",
       "      <td>0.819415</td>\n",
       "      <td>0.805261</td>\n",
       "      <td>0.811462</td>\n",
       "      <td>0.005028</td>\n",
       "      <td>9</td>\n",
       "    </tr>\n",
       "  </tbody>\n",
       "</table>\n",
       "</div>"
      ],
      "text/plain": [
       "   mean_fit_time  std_fit_time  mean_score_time  std_score_time param_C  \\\n",
       "0       4.664549      0.062252         0.761767        0.004802       1   \n",
       "1       4.720364      0.034192         0.756562        0.011091       2   \n",
       "2       4.807243      0.079313         0.753025        0.004718       3   \n",
       "3       4.851769      0.050011         0.749426        0.002672       4   \n",
       "4       4.883755      0.052473         0.757691        0.015005       5   \n",
       "5       4.961843      0.057992         0.754562        0.012273       6   \n",
       "6       5.012021      0.064646         0.750877        0.003800       7   \n",
       "7       5.115804      0.092151         0.762855        0.007863       8   \n",
       "8       5.533539      0.277503         0.791410        0.020271       9   \n",
       "9       5.456171      0.465471         0.768293        0.008541      10   \n",
       "\n",
       "      params  split0_test_score  split1_test_score  split2_test_score  \\\n",
       "0   {'C': 1}           0.809826           0.801271           0.798220   \n",
       "1   {'C': 2}           0.815332           0.809322           0.805002   \n",
       "2   {'C': 3}           0.816180           0.808051           0.808393   \n",
       "3   {'C': 4}           0.817874           0.807627           0.807969   \n",
       "4   {'C': 5}           0.818297           0.806356           0.809241   \n",
       "5   {'C': 6}           0.817027           0.805085           0.811785   \n",
       "6   {'C': 7}           0.817027           0.805932           0.810089   \n",
       "7   {'C': 8}           0.815756           0.809322           0.810513   \n",
       "8   {'C': 9}           0.814485           0.808898           0.810937   \n",
       "9  {'C': 10}           0.814485           0.807627           0.810513   \n",
       "\n",
       "   split3_test_score  split4_test_score  mean_test_score  std_test_score  \\\n",
       "0           0.815600           0.807382         0.806460        0.006173   \n",
       "1           0.819415           0.808655         0.811546        0.005145   \n",
       "2           0.821958           0.809079         0.812733        0.005497   \n",
       "3           0.824502           0.808655         0.813327        0.006761   \n",
       "4           0.825350           0.808231         0.813496        0.007216   \n",
       "5           0.824502           0.808231         0.813327        0.006853   \n",
       "6           0.823230           0.807382         0.812733        0.006488   \n",
       "7           0.821535           0.807382         0.812903        0.005131   \n",
       "8           0.818991           0.807807         0.812224        0.004077   \n",
       "9           0.819415           0.805261         0.811462        0.005028   \n",
       "\n",
       "   rank_test_score  \n",
       "0               10  \n",
       "1                8  \n",
       "2                5  \n",
       "3                2  \n",
       "4                1  \n",
       "5                2  \n",
       "6                5  \n",
       "7                4  \n",
       "8                7  \n",
       "9                9  "
      ]
     },
     "execution_count": 70,
     "metadata": {},
     "output_type": "execute_result"
    }
   ],
   "source": [
    "svm_results_accu_2 = clf2.cv_results_\n",
    "svm_accu_2 = pd.DataFrame(svm_results_accu_2)\n",
    "svm_accu_2"
   ]
  },
  {
   "cell_type": "code",
   "execution_count": null,
   "metadata": {},
   "outputs": [],
   "source": []
  },
  {
   "cell_type": "code",
   "execution_count": 99,
   "metadata": {},
   "outputs": [],
   "source": [
    "svm_cost_sen_1 = []\n",
    "svm_cost_sen_2 = []\n",
    "parameters_gamma_C = {0.001: 100, 0.01: 1, 0.1: 10, 1: 10, 10: 10, 100: 1}\n",
    "for i in parameters_gamma_C:\n",
    "    tmp_svm = SVC(kernel = 'rbf', decision_function_shape = 'ovr', \n",
    "                  gamma = i, C = parameters_gamma_C[i]).fit(X_train_2, Y_train_2['price'])\n",
    "    svm_predicted_train = tmp_svm.predict(X_train_2)\n",
    "    svm_cost_sen_1.append(accuracy_score(Y_train_2['price'], svm_predicted_train))\n",
    "    \n",
    "    svm_predicted_test = tmp_svm.predict(X_test_2)\n",
    "    svm_cost_sen_2.append(accuracy_score(Y_test_2['price'], svm_predicted_test))"
   ]
  },
  {
   "cell_type": "code",
   "execution_count": 15,
   "metadata": {},
   "outputs": [],
   "source": [
    "# svm_cost_sen_1, svm_cost_sen_2"
   ]
  },
  {
   "cell_type": "code",
   "execution_count": 101,
   "metadata": {},
   "outputs": [],
   "source": [
    "svm_cost_sen_1 = []\n",
    "svm_cost_sen_2 = []\n",
    "parameters_gamma_C = {0.001: 100, 0.005, 0.01: 1, 0.1: 10, 1: 10, 10: 10, 100: 1}\n",
    "for i in parameters_gamma_C:\n",
    "    tmp_svm = SVC(kernel = 'rbf', decision_function_shape = 'ovr', \n",
    "                  gamma = i, C = parameters_gamma_C[i]).fit(X_train_2, Y_train_2['price'])\n",
    "    svm_predicted_train = tmp_svm.predict(X_train_2)\n",
    "    err1 = svm_predicted_train - Y_train_2['price']\n",
    "    err1 = abs(err1)\n",
    "    err1 = sum(err1)/len(Y_train_2['price'])\n",
    "    svm_cost_sen_1.append(1 - err1)\n",
    "    \n",
    "    svm_predicted_test = tmp_svm.predict(X_test_2)\n",
    "    err2 = svm_predicted_test - Y_test_2['price']\n",
    "    err2 = abs(err2)\n",
    "    err2 = sum(err2)/len(Y_test_2['price'])\n",
    "    svm_cost_sen_2.append(1 - err2)\n"
   ]
  },
  {
   "cell_type": "code",
   "execution_count": 16,
   "metadata": {},
   "outputs": [],
   "source": [
    "# svm_cost_sen_1, svm_cost_sen_2"
   ]
  },
  {
   "cell_type": "code",
   "execution_count": null,
   "metadata": {},
   "outputs": [],
   "source": [
    "svm_cost_sen_1 = []\n",
    "svm_cost_sen_2 = []\n",
    "parameters_gamma_C = {0.001: 100, 0.01: 1, 0.1: 0.25, 1: 0.25, 10: 0.75, 100: 0.75}\n",
    "for i in parameters_gamma_C:\n",
    "    tmp_svm = SVC(kernel = 'poly', degree = 2, decision_function_shape = 'ovr', \n",
    "                  gamma = i, C = parameters_gamma_C[i]).fit(X_train_2, Y_train_2['price'])\n",
    "    svm_predicted_train = tmp_svm.predict(X_train_2)\n",
    "    err1 = svm_predicted_train - Y_train_2['price']\n",
    "    err1 = abs(err1)\n",
    "    err1 = sum(err1)/len(Y_train_2['price'])\n",
    "    svm_cost_sen_1.append(1 - err1)\n",
    "    \n",
    "    svm_predicted_test = tmp_svm.predict(X_test_2)\n",
    "    err2 = svm_predicted_test - Y_test_2['price']\n",
    "    err2 = abs(err2)\n",
    "    err2 = sum(err2)/len(Y_test_2['price'])\n",
    "    svm_cost_sen_2.append(1 - err2)\n"
   ]
  },
  {
   "cell_type": "code",
   "execution_count": null,
   "metadata": {},
   "outputs": [],
   "source": [
    "svm_cost_sen_1, svm_cost_sen_2"
   ]
  },
  {
   "cell_type": "code",
   "execution_count": null,
   "metadata": {},
   "outputs": [],
   "source": []
  },
  {
   "cell_type": "markdown",
   "metadata": {},
   "source": [
    "### KNN"
   ]
  },
  {
   "cell_type": "code",
   "execution_count": 38,
   "metadata": {},
   "outputs": [],
   "source": [
    "from sklearn.neighbors import KNeighborsClassifier"
   ]
  },
  {
   "cell_type": "code",
   "execution_count": 47,
   "metadata": {},
   "outputs": [],
   "source": [
    "# CV\n",
    "from sklearn.model_selection import cross_validate\n",
    "from sklearn.model_selection import cross_val_score\n",
    "\n",
    "ran = np.arange(3, 30)\n",
    "accuracy = []\n",
    "for k in ran:\n",
    "    knn = KNeighborsClassifier(n_neighbors=k)  \n",
    "    acc = cross_val_score(knn, X_train_2, Y_train_2['price'], cv=5, scoring='accuracy')\n",
    "    avgAcc = sum(acc)/5\n",
    "    accuracy.append(avgAcc)"
   ]
  },
  {
   "cell_type": "code",
   "execution_count": 39,
   "metadata": {},
   "outputs": [],
   "source": [
    "knn_cost_sen_1 = []\n",
    "knn_cost_sen_2 = []\n",
    "parameters_k = list(range(3,30))\n",
    "for i in parameters_k:\n",
    "    tmp_knn = KNeighborsClassifier(n_neighbors = i).fit(X_train_2, Y_train_2['price'])\n",
    "    knn_predicted_train = tmp_knn.predict(X_train_2)\n",
    "    knn_cost_sen_1.append(accuracy_score(Y_train_2['price'], knn_predicted_train))\n",
    "    \n",
    "    knn_predicted_test = tmp_knn.predict(X_test_2)\n",
    "    knn_cost_sen_2.append(accuracy_score(Y_test_2['price'], knn_predicted_test))"
   ]
  },
  {
   "cell_type": "code",
   "execution_count": 18,
   "metadata": {},
   "outputs": [],
   "source": [
    "# knn_cost_sen_1, knn_cost_sen_2"
   ]
  },
  {
   "cell_type": "code",
   "execution_count": 50,
   "metadata": {},
   "outputs": [
    {
     "data": {
      "image/png": "[encoded data removed]",
      "text/plain": [
       "<Figure size 432x288 with 1 Axes>"
      ]
     },
     "metadata": {
      "needs_background": "light"
     },
     "output_type": "display_data"
    }
   ],
   "source": [
    "left = list(range(3,16))\n",
    "\n",
    "train_accu = knn_cost_sen_1[:13]\n",
    "test_accu = knn_cost_sen_2[:13]\n",
    "cv_accu = accuracy[:13]\n",
    "\n",
    "\n",
    "plt.plot(left, train_accu, marker='o', markerfacecolor = 'tomato', \n",
    "         markersize = 6, color = 'tomato', linewidth = 2, label = 'Train Accuracy')\n",
    "plt.plot(left, test_accu, marker='o', markerfacecolor = 'darkcyan', \n",
    "         markersize = 6, color = 'darkcyan', linewidth = 2, label = 'Test Accuracy')\n",
    "plt.plot(left, cv_accu, marker='o', markerfacecolor = 'orange', \n",
    "         markersize = 6, color = 'orange', linewidth = 2, label = 'Cross Validation Accuracy')\n",
    " \n",
    "\n",
    "#plt.xlabel('') \n",
    "plt.ylabel('Accuracy') \n",
    "plt.xlabel('Value of K') \n",
    "#plt.title('My bar chart!') \n",
    "# plt.ylim(0.6, 1.1) \n",
    "ax = plt.axes()        \n",
    "ax.yaxis.grid(True)\n",
    "ax.xaxis.grid(True)\n",
    "plt.legend()\n",
    "plt.title('KNN')\n",
    "plt.show()"
   ]
  },
  {
   "cell_type": "code",
   "execution_count": 41,
   "metadata": {},
   "outputs": [],
   "source": [
    "knn_cost_sen_1 = []\n",
    "knn_cost_sen_2 = []\n",
    "parameters_k = list(range(3,30))\n",
    "for i in parameters_k:\n",
    "    tmp_knn = KNeighborsClassifier(n_neighbors = i).fit(X_train_2, Y_train_2['price'])\n",
    "    knn_predicted_train = tmp_knn.predict(X_train_2)\n",
    "    err1 = knn_predicted_train - Y_train_2['price']\n",
    "    err1 = abs(err1)\n",
    "    err1 = sum(err1)/len(Y_train_2['price'])\n",
    "    knn_cost_sen_1.append(1 - err1)\n",
    "    \n",
    "    knn_predicted_test = tmp_knn.predict(X_test_2)\n",
    "    err2 = knn_predicted_test - Y_test_2['price']\n",
    "    err2 = abs(err2)\n",
    "    err2 = sum(err2)/len(Y_test_2['price'])\n",
    "    knn_cost_sen_2.append(1 - err2)"
   ]
  },
  {
   "cell_type": "code",
   "execution_count": 19,
   "metadata": {},
   "outputs": [],
   "source": [
    "# knn_cost_sen_1, knn_cost_sen_2"
   ]
  },
  {
   "cell_type": "code",
   "execution_count": null,
   "metadata": {},
   "outputs": [],
   "source": []
  },
  {
   "cell_type": "code",
   "execution_count": 55,
   "metadata": {},
   "outputs": [
    {
     "data": {
      "text/plain": [
       "(0.7988466757123474,\n",
       " array([0.84823958, 0.55808656, 0.37931034, 0.33333333]),\n",
       " array([0.96190913, 0.40901503, 0.09016393, 0.0625    ]))"
      ]
     },
     "execution_count": 55,
     "metadata": {},
     "output_type": "execute_result"
    }
   ],
   "source": [
    "knn = KNeighborsClassifier(n_neighbors=6) \n",
    "knn.fit(X_train_2, Y_train_2['price'])\n",
    "Y_pred_2 = knn.predict(X_test_2)\n",
    "#target_names = ['class 0', 'class 1', 'class 2', 'class 3']\n",
    "#print(classification_report(Y_test_2, Y_pred_2, target_names=target_names))\n",
    "\n",
    "accuracy = accuracy_score(Y_test_2['price'], Y_pred_2)\n",
    "precision = precision_score(Y_test_2['price'], Y_pred_2, average = None)\n",
    "recall = recall_score(Y_test_2['price'], Y_pred_2, average = None)\n",
    "\n",
    "accuracy, precision, recall"
   ]
  },
  {
   "cell_type": "code",
   "execution_count": 56,
   "metadata": {},
   "outputs": [
    {
     "data": {
      "text/plain": [
       "(0.5297424544107876, 0.3808970230244031, 0.4431552307023058)"
      ]
     },
     "execution_count": 56,
     "metadata": {},
     "output_type": "execute_result"
    }
   ],
   "source": [
    "m_pre = sum(precision)/len(precision)\n",
    "m_rec = sum(recall)/len(recall)\n",
    "f1 = 2*m_pre*m_rec/(m_pre+m_rec)\n",
    "m_pre,m_rec,f1"
   ]
  },
  {
   "cell_type": "code",
   "execution_count": null,
   "metadata": {},
   "outputs": [],
   "source": []
  },
  {
   "cell_type": "markdown",
   "metadata": {},
   "source": [
    "### Random Forest"
   ]
  },
  {
   "cell_type": "code",
   "execution_count": 13,
   "metadata": {},
   "outputs": [],
   "source": [
    "from sklearn.ensemble import RandomForestClassifier"
   ]
  },
  {
   "cell_type": "code",
   "execution_count": 51,
   "metadata": {},
   "outputs": [],
   "source": [
    "# CV\n",
    "ran = [5,10,15,20,25,30,40,50,60,70]\n",
    "accuracy_rf = []\n",
    "for n in ran:\n",
    "    rcf = RandomForestClassifier(n_estimators = n)  \n",
    "    acc = cross_val_score(rcf, X_train_2, Y_train_2['price'], cv=5, scoring='accuracy')\n",
    "    avgAcc = sum(acc)/5\n",
    "    accuracy_rf.append(avgAcc)"
   ]
  },
  {
   "cell_type": "code",
   "execution_count": 32,
   "metadata": {},
   "outputs": [],
   "source": [
    "rf_cost_sen_1 = []\n",
    "rf_cost_sen_2 = []\n",
    "parameters_n = [5,10,15,20,25,30,40,50,60,70]\n",
    "for i in parameters_n:\n",
    "    tmp_rf = RandomForestClassifier(n_estimators = i).fit(X_train_2, Y_train_2['price'])\n",
    "    rf_predicted_train = tmp_rf.predict(X_train_2)\n",
    "    rf_cost_sen_1.append(accuracy_score(Y_train_2['price'], rf_predicted_train))\n",
    "    \n",
    "    rf_predicted_test = tmp_rf.predict(X_test_2)\n",
    "    rf_cost_sen_2.append(accuracy_score(Y_test_2['price'], rf_predicted_test))"
   ]
  },
  {
   "cell_type": "code",
   "execution_count": 20,
   "metadata": {},
   "outputs": [],
   "source": [
    "# rf_cost_sen_1, rf_cost_sen_2"
   ]
  },
  {
   "cell_type": "code",
   "execution_count": 53,
   "metadata": {},
   "outputs": [
    {
     "data": {
      "image/png": "[encoded data removed]",
      "text/plain": [
       "<Figure size 432x288 with 1 Axes>"
      ]
     },
     "metadata": {
      "needs_background": "light"
     },
     "output_type": "display_data"
    }
   ],
   "source": [
    "train_accu = rf_cost_sen_1\n",
    "test_accu = rf_cost_sen_2\n",
    "cv_accu = accuracy_rf\n",
    "\n",
    "plt.plot(parameters_n, train_accu, marker='o', markerfacecolor = 'tomato', \n",
    "         markersize = 6, color = 'tomato', linewidth = 2, label = 'Train Accuracy')\n",
    "plt.plot(parameters_n, test_accu, marker='o', markerfacecolor = 'darkcyan', \n",
    "         markersize = 6, color = 'darkcyan', linewidth = 2, label = 'Test Accuracy')\n",
    "plt.plot(parameters_n, cv_accu, marker='o', markerfacecolor = 'orange', \n",
    "         markersize = 6, color = 'orange', linewidth = 2, label = 'Cross Validation Accuracy')\n",
    "\n",
    "plt.ylabel('Accuracy') \n",
    "plt.xlabel('Number of Trees') \n",
    "ax = plt.axes()        \n",
    "ax.yaxis.grid(True)\n",
    "ax.xaxis.grid(True)\n",
    "plt.legend()\n",
    "plt.title('Random Forest')\n",
    "plt.show()"
   ]
  },
  {
   "cell_type": "code",
   "execution_count": 29,
   "metadata": {},
   "outputs": [],
   "source": [
    "rf_cost_sen_1 = []\n",
    "rf_cost_sen_2 = []\n",
    "parameters_n = [5,10,15,20,25,30,40,50,60,70]\n",
    "for i in parameters_n:\n",
    "    tmp_rf = RandomForestClassifier(n_estimators = i).fit(X_train_2, Y_train_2['price'])\n",
    "    rf_predicted_train = tmp_rf.predict(X_train_2)\n",
    "    err1 = rf_predicted_train - Y_train_2['price']\n",
    "    err1 = abs(err1)\n",
    "    err1 = sum(err1)/len(Y_train_2['price'])\n",
    "    rf_cost_sen_1.append(1 - err1)\n",
    "    \n",
    "    rf_predicted_test = tmp_rf.predict(X_test_2)\n",
    "    err2 = rf_predicted_test - Y_test_2['price']\n",
    "    err2 = abs(err2)\n",
    "    err2 = sum(err2)/len(Y_test_2['price'])\n",
    "    rf_cost_sen_2.append(1 - err2)"
   ]
  },
  {
   "cell_type": "code",
   "execution_count": 21,
   "metadata": {},
   "outputs": [],
   "source": [
    "# rf_cost_sen_1, rf_cost_sen_2"
   ]
  },
  {
   "cell_type": "code",
   "execution_count": null,
   "metadata": {},
   "outputs": [],
   "source": []
  },
  {
   "cell_type": "code",
   "execution_count": 57,
   "metadata": {},
   "outputs": [
    {
     "data": {
      "text/plain": [
       "(0.8497286295793759,\n",
       " array([0.91008293, 0.65254237, 0.53658537, 0.5       ]),\n",
       " array([0.95686095, 0.6427379 , 0.18032787, 0.27083333]))"
      ]
     },
     "execution_count": 57,
     "metadata": {},
     "output_type": "execute_result"
    }
   ],
   "source": [
    "rcf = RandomForestClassifier(n_estimators = 60) \n",
    "rcf.fit(X_train_2, Y_train_2['price'])\n",
    "Y_pred_2 = rcf.predict(X_test_2)\n",
    "#target_names = ['class 0', 'class 1', 'class 2', 'class 3']\n",
    "#print(classification_report(Y_test_2, Y_pred_2, target_names=target_names))\n",
    "\n",
    "acc = accuracy_score(Y_test_2['price'], Y_pred_2)\n",
    "precision = precision_score(Y_test_2['price'], Y_pred_2, average = None)\n",
    "recall = recall_score(Y_test_2['price'], Y_pred_2, average = None)\n",
    "\n",
    "acc, precision, recall"
   ]
  },
  {
   "cell_type": "code",
   "execution_count": 58,
   "metadata": {},
   "outputs": [
    {
     "data": {
      "text/plain": [
       "(0.6498026679879876, 0.5126900110169355, 0.573160318385428)"
      ]
     },
     "execution_count": 58,
     "metadata": {},
     "output_type": "execute_result"
    }
   ],
   "source": [
    "m_pre = sum(precision)/len(precision)\n",
    "m_rec = sum(recall)/len(recall)\n",
    "f1 = 2*m_pre*m_rec/(m_pre+m_rec)\n",
    "m_pre, m_rec, f1"
   ]
  },
  {
   "cell_type": "code",
   "execution_count": null,
   "metadata": {},
   "outputs": [],
   "source": []
  }
 ],
 "metadata": {
  "kernelspec": {
   "display_name": "Python 3",
   "language": "python",
   "name": "python3"
  },
  "language_info": {
   "codemirror_mode": {
    "name": "ipython",
    "version": 3
   },
   "file_extension": ".py",
   "mimetype": "text/x-python",
   "name": "python",
   "nbconvert_exporter": "python",
   "pygments_lexer": "ipython3",
   "version": "3.7.3"
  }
 },
 "nbformat": 4,
 "nbformat_minor": 2
}
