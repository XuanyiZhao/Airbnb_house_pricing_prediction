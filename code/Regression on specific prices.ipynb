{
 "cells": [
  {
   "cell_type": "code",
   "execution_count": 1,
   "metadata": {},
   "outputs": [],
   "source": [
    "import pandas as pd\n",
    "import numpy as np\n",
    "import requests\n",
    "from io import StringIO\n",
    "from mpl_toolkits.mplot3d import Axes3D\n",
    "from sklearn.preprocessing import StandardScaler\n",
    "import matplotlib.pyplot as plt\n",
    "import os"
   ]
  },
  {
   "cell_type": "markdown",
   "metadata": {},
   "source": [
    "# Regression on Specific Prices"
   ]
  },
  {
   "cell_type": "markdown",
   "metadata": {},
   "source": [
    "## For price"
   ]
  },
  {
   "cell_type": "code",
   "execution_count": 48,
   "metadata": {},
   "outputs": [],
   "source": [
    "from sklearn.model_selection import KFold\n",
    "from sklearn.preprocessing import StandardScaler  \n",
    "from sklearn.model_selection import cross_validate\n",
    "from sklearn.model_selection import cross_val_score\n",
    "\n",
    "from sklearn.model_selection import GridSearchCV\n",
    "from sklearn.model_selection import RandomizedSearchCV\n",
    "from sklearn.preprocessing import MinMaxScaler"
   ]
  },
  {
   "cell_type": "markdown",
   "metadata": {},
   "source": [
    "### Model Classifier"
   ]
  },
  {
   "cell_type": "code",
   "execution_count": 49,
   "metadata": {},
   "outputs": [],
   "source": [
    "def classifier(model, X_training, Y_training, X_testing, Y_testing):\n",
    "    clf = model.fit(X_training, Y_training)\n",
    "    predict = clf.predict(X_testing)\n",
    "    \n",
    "#     return predict\n",
    "    return clf.score(X_testing, Y_testing)\n",
    "# Results, as a list of dictionaries\n",
    "classifier_results = []"
   ]
  },
  {
   "cell_type": "markdown",
   "metadata": {},
   "source": [
    "### Linear Regression"
   ]
  },
  {
   "cell_type": "code",
   "execution_count": 50,
   "metadata": {},
   "outputs": [],
   "source": [
    "from sklearn.linear_model import LinearRegression\n",
    "linear = LinearRegression()"
   ]
  },
  {
   "cell_type": "code",
   "execution_count": 51,
   "metadata": {},
   "outputs": [],
   "source": [
    "clf_linear = linear.fit(X_train, Y_train['price'])"
   ]
  },
  {
   "cell_type": "code",
   "execution_count": 73,
   "metadata": {},
   "outputs": [],
   "source": [
    "from sklearn.metrics import r2_score\n",
    "from sklearn.metrics import mean_squared_error\n",
    "from sklearn.metrics import explained_variance_score\n",
    "from sklearn.metrics import mean_absolute_error"
   ]
  },
  {
   "cell_type": "code",
   "execution_count": 53,
   "metadata": {},
   "outputs": [
    {
     "data": {
      "text/plain": [
       "(0.6858307451859167, 2732.5534318115456, 34.972559189072314)"
      ]
     },
     "execution_count": 53,
     "metadata": {},
     "output_type": "execute_result"
    }
   ],
   "source": [
    "linear_predicted = clf_linear.predict(X_train)\n",
    "score_r2 = r2_score(Y_train['price'], linear_predicted)\n",
    "score_mean_sq_error = mean_squared_error(Y_train['price'], linear_predicted)\n",
    "score_abs = mean_absolute_error(Y_train['price'], linear_predicted)\n",
    "score_r2, score_mean_sq_error, score_abs"
   ]
  },
  {
   "cell_type": "code",
   "execution_count": 54,
   "metadata": {},
   "outputs": [],
   "source": [
    "linear_predicted = clf_linear.predict(X_test)\n",
    "score_r2 = r2_score(Y_test['price'], linear_predicted)\n",
    "score_mean_sq_error = mean_squared_error(Y_test['price'], linear_predicted)\n",
    "score_abs = mean_absolute_error(Y_test['price'], linear_predicted)"
   ]
  },
  {
   "cell_type": "code",
   "execution_count": 55,
   "metadata": {},
   "outputs": [
    {
     "data": {
      "text/plain": [
       "(0.6826509144105428, 2627.2251658015684, 34.14471766407618)"
      ]
     },
     "execution_count": 55,
     "metadata": {},
     "output_type": "execute_result"
    }
   ],
   "source": [
    "score_r2, score_mean_sq_error, score_abs"
   ]
  },
  {
   "cell_type": "code",
   "execution_count": null,
   "metadata": {},
   "outputs": [],
   "source": []
  },
  {
   "cell_type": "markdown",
   "metadata": {},
   "source": [
    "### Ridge Regression"
   ]
  },
  {
   "cell_type": "code",
   "execution_count": 56,
   "metadata": {},
   "outputs": [],
   "source": [
    "from sklearn.linear_model import Ridge\n",
    "ridge = Ridge(alpha = 2)\n",
    "clf_ridge = ridge.fit(X_train, Y_train['price'])"
   ]
  },
  {
   "cell_type": "code",
   "execution_count": 57,
   "metadata": {},
   "outputs": [
    {
     "data": {
      "text/plain": [
       "(0.6854530666085159, 2735.8383709867967, 34.995553067039566)"
      ]
     },
     "execution_count": 57,
     "metadata": {},
     "output_type": "execute_result"
    }
   ],
   "source": [
    "ridge_predicted = clf_ridge.predict(X_train)\n",
    "\n",
    "ridge_score_r2 = r2_score(Y_train['price'], ridge_predicted)\n",
    "ridge_score_mean_sq_error = mean_squared_error(Y_train['price'], ridge_predicted)\n",
    "ridge_score_abs = mean_absolute_error(Y_train['price'], ridge_predicted)\n",
    "\n",
    "ridge_score_r2, ridge_score_mean_sq_error, ridge_score_abs"
   ]
  },
  {
   "cell_type": "code",
   "execution_count": 58,
   "metadata": {},
   "outputs": [
    {
     "data": {
      "text/plain": [
       "(0.6844992942159465, 2611.923057929741, 34.04048127304537)"
      ]
     },
     "execution_count": 58,
     "metadata": {},
     "output_type": "execute_result"
    }
   ],
   "source": [
    "ridge_predicted = clf_ridge.predict(X_test)\n",
    "\n",
    "ridge_score_r2 = r2_score(Y_test['price'], ridge_predicted)\n",
    "ridge_score_mean_sq_error = mean_squared_error(Y_test['price'], ridge_predicted)\n",
    "ridge_score_abs = mean_absolute_error(Y_test['price'], ridge_predicted)\n",
    "\n",
    "ridge_score_r2, ridge_score_mean_sq_error, ridge_score_abs"
   ]
  },
  {
   "cell_type": "code",
   "execution_count": null,
   "metadata": {},
   "outputs": [],
   "source": []
  },
  {
   "cell_type": "code",
   "execution_count": 666,
   "metadata": {},
   "outputs": [],
   "source": [
    "barwidth = 0.3\n",
    "bar1 = [0.6941070217388134, 0.6941823133179236, 0.6650981012851269, 0.707888715794305]\n",
    "bar2 = [2658.875283738533, 2658.2208361604694, 2911.0258955004874, 2539.0823878685774]\n",
    "bar3 = [35.17348215226964, 35.15370593223996, 33.45897031952023, 31.150775100711837]\n",
    "\n",
    "r1 = np.arange(len(bar1))\n",
    "r2 = [x + barwidth for x in r1]\n",
    "r3 = [x + barwidth for x in r2]\n",
    "\n",
    "plt.bar(r1, bar1, color = 'turquoise', width = barwidth, \n",
    "                  edgecolor = 'white', label = 'Iris-setosa')\n",
    "plt.bar(r2, bar2, color = 'coral', width = barwidth, \n",
    "                  edgecolor = 'white', label = 'Iris-versicolor')\n",
    "plt.bar(r3, bar3, color = 'wheat', width = barwidth, \n",
    "                  edgecolor = 'white', label = 'Iris-virginica')\n",
    "\n",
    "plt.xlabel('Different measurements', fontweight = 'bold')\n",
    "plt.ylabel('Mean', fontweight = 'bold')\n",
    "plt.xticks([r + barwidth for r in range(len(bar1))], \n",
    "           ['sepallength', 'sepalwidth', 'petallength', 'petalwidth'])\n",
    "\n",
    "plt.legend()\n",
    "plt.show()"
   ]
  },
  {
   "cell_type": "code",
   "execution_count": null,
   "metadata": {},
   "outputs": [],
   "source": []
  },
  {
   "cell_type": "code",
   "execution_count": null,
   "metadata": {},
   "outputs": [],
   "source": []
  },
  {
   "cell_type": "markdown",
   "metadata": {},
   "source": [
    "### SVR"
   ]
  },
  {
   "cell_type": "code",
   "execution_count": 59,
   "metadata": {},
   "outputs": [],
   "source": [
    "from sklearn.svm import SVR\n",
    "# svr = SVR(kernel = 'rbf', gamma = 1 / d)"
   ]
  },
  {
   "cell_type": "code",
   "execution_count": 104,
   "metadata": {},
   "outputs": [],
   "source": [
    "parameters_C = [0.001, 0.01, 0.1, 1, 10, 100]\n",
    "parameters_epsilon = [0.01, 0.1, 1, 10]\n",
    "parameters_gamma = [0.001, 0.01, 0.1, 1, 10, 100]"
   ]
  },
  {
   "cell_type": "code",
   "execution_count": 55,
   "metadata": {},
   "outputs": [],
   "source": [
    "cv_svr = {}\n",
    "for i in parameters_gamma:\n",
    "    cv_svr[i] = {}\n",
    "    print (i)\n",
    "    for j in parameters_C:\n",
    "        print (j)\n",
    "        svr = SVR(kernel = 'rbf', gamma = i, C = j, epsilon = 0.1)\n",
    "        cv_results = cross_validate(svr, X_train, Y_train['price'], cv = 5, return_train_score = False)\n",
    "        cv_error = np.mean(cv_results['test_score'])\n",
    "        cv_svr[i][j] = cv_error\n",
    "        "
   ]
  },
  {
   "cell_type": "code",
   "execution_count": 1,
   "metadata": {},
   "outputs": [],
   "source": [
    "# cv_svr"
   ]
  },
  {
   "cell_type": "code",
   "execution_count": 60,
   "metadata": {},
   "outputs": [],
   "source": [
    "clf_svr = SVR(kernel = 'rbf', gamma = 0.001, C = 100, epsilon = 0.1)\n",
    "clf_svr.fit(X_train, Y_train['price'])\n",
    "svr_predicted = clf_svr.predict(X_train)\n",
    "\n",
    "score_r2_svr = r2_score(Y_train['price'], svr_predicted)\n",
    "score_mean_sq_error_svr = mean_squared_error(Y_train['price'], svr_predicted)\n",
    "score_abs_svr = mean_absolute_error(Y_train['price'], svr_predicted)"
   ]
  },
  {
   "cell_type": "code",
   "execution_count": 61,
   "metadata": {},
   "outputs": [
    {
     "data": {
      "text/plain": [
       "(0.6651123977319733, 2912.7556335522586, 32.022835809708056)"
      ]
     },
     "execution_count": 61,
     "metadata": {},
     "output_type": "execute_result"
    }
   ],
   "source": [
    "score_r2_svr, score_mean_sq_error_svr, score_abs_svr"
   ]
  },
  {
   "cell_type": "code",
   "execution_count": 62,
   "metadata": {},
   "outputs": [],
   "source": [
    "svr_predicted = clf_svr.predict(X_test)\n",
    "\n",
    "score_r2_svr = r2_score(Y_test['price'], svr_predicted)\n",
    "score_mean_sq_error_svr = mean_squared_error(Y_test['price'], svr_predicted)\n",
    "score_abs_svr = mean_absolute_error(Y_test['price'], svr_predicted)"
   ]
  },
  {
   "cell_type": "code",
   "execution_count": 63,
   "metadata": {},
   "outputs": [
    {
     "data": {
      "text/plain": [
       "(0.6632792207593317, 2787.596830242096, 32.373268848727285)"
      ]
     },
     "execution_count": 63,
     "metadata": {},
     "output_type": "execute_result"
    }
   ],
   "source": [
    "score_r2_svr, score_mean_sq_error_svr, score_abs_svr"
   ]
  },
  {
   "cell_type": "code",
   "execution_count": 106,
   "metadata": {},
   "outputs": [],
   "source": [
    "parameters_C = [0.001, 0.01, 0.1, 1, 10, 100]\n",
    "parameters_epsilon = [0.01, 0.1, 1, 10]\n",
    "parameters_q = [1, 2, 3, 4]"
   ]
  },
  {
   "cell_type": "code",
   "execution_count": 1,
   "metadata": {},
   "outputs": [],
   "source": [
    "# cv_svr_poly"
   ]
  },
  {
   "cell_type": "code",
   "execution_count": 64,
   "metadata": {},
   "outputs": [],
   "source": [
    "clf_svr_poly = SVR(kernel = 'poly', degree = 2, gamma = 1 / d, C = 1, epsilon = 0.1)\n",
    "clf_svr_poly.fit(X_train, Y_train['price'])\n",
    "svr_poly_predicted = clf_svr_poly.predict(X_train)\n",
    "\n",
    "score_r2_svr_poly = r2_score(Y_train['price'], svr_poly_predicted)\n",
    "score_mean_sq_error_svr_poly = mean_squared_error(Y_train['price'], svr_poly_predicted)\n",
    "score_abs_svr_poly = mean_absolute_error(Y_train['price'], svr_poly_predicted)"
   ]
  },
  {
   "cell_type": "code",
   "execution_count": 65,
   "metadata": {},
   "outputs": [
    {
     "data": {
      "text/plain": [
       "(0.7014570778654025, 2596.6401037704986, 30.944956404110965)"
      ]
     },
     "execution_count": 65,
     "metadata": {},
     "output_type": "execute_result"
    }
   ],
   "source": [
    "score_r2_svr_poly, score_mean_sq_error_svr_poly, score_abs_svr_poly"
   ]
  },
  {
   "cell_type": "code",
   "execution_count": 66,
   "metadata": {},
   "outputs": [],
   "source": [
    "svr_poly_predicted = clf_svr_poly.predict(X_test)\n",
    "\n",
    "score_r2_svr_poly = r2_score(Y_test['price'], svr_poly_predicted)\n",
    "score_mean_sq_error_svr_poly = mean_squared_error(Y_test['price'], svr_poly_predicted)\n",
    "score_abs_svr_poly = mean_absolute_error(Y_test['price'], svr_poly_predicted)"
   ]
  },
  {
   "cell_type": "code",
   "execution_count": 67,
   "metadata": {},
   "outputs": [
    {
     "data": {
      "text/plain": [
       "(0.7118470118283793, 2385.5206033420313, 29.808533258622028)"
      ]
     },
     "execution_count": 67,
     "metadata": {},
     "output_type": "execute_result"
    }
   ],
   "source": [
    "score_r2_svr_poly, score_mean_sq_error_svr_poly, score_abs_svr_poly"
   ]
  },
  {
   "cell_type": "code",
   "execution_count": null,
   "metadata": {},
   "outputs": [],
   "source": []
  },
  {
   "cell_type": "code",
   "execution_count": 2,
   "metadata": {},
   "outputs": [],
   "source": [
    "cv_svr_mean_sq = {}\n",
    "for i in parameters_gamma:\n",
    "    cv_svr_mean_sq[i] = {}\n",
    "    print (i)\n",
    "    for j in parameters_C:\n",
    "        print (j)\n",
    "        svr = SVR(kernel = 'rbf', gamma = i, C = j, epsilon = 0.1)\n",
    "        cv_results = cross_validate(svr, X_train, Y_train['price'], cv = 5, scoring = 'neg_mean_squared_error', \n",
    "                                    return_train_score = False)\n",
    "        cv_error = np.mean(cv_results['test_score'])\n",
    "        cv_svr_mean_sq[i][j] = cv_error"
   ]
  },
  {
   "cell_type": "code",
   "execution_count": 3,
   "metadata": {},
   "outputs": [],
   "source": [
    "# cv_svr_mean_sq"
   ]
  },
  {
   "cell_type": "code",
   "execution_count": 4,
   "metadata": {},
   "outputs": [],
   "source": [
    "cv_svr_ex_var = {}\n",
    "for i in parameters_gamma:\n",
    "    cv_svr_ex_var[i] = {}\n",
    "    print (i)\n",
    "    for j in parameters_C:\n",
    "        print (j)\n",
    "        svr = SVR(kernel = 'rbf', gamma = i, C = j, epsilon = 0.1)\n",
    "        cv_results = cross_validate(svr, X_train, Y_train['price'], cv = 5, scoring = 'explained_variance', \n",
    "                                    return_train_score = False)\n",
    "        cv_error = np.mean(cv_results['test_score'])\n",
    "        cv_svr_ex_var[i][j] = cv_error"
   ]
  },
  {
   "cell_type": "code",
   "execution_count": 5,
   "metadata": {},
   "outputs": [],
   "source": [
    "# cv_svr_ex_var"
   ]
  }
 ],
 "metadata": {
  "kernelspec": {
   "display_name": "Python 3",
   "language": "python",
   "name": "python3"
  },
  "language_info": {
   "codemirror_mode": {
    "name": "ipython",
    "version": 3
   },
   "file_extension": ".py",
   "mimetype": "text/x-python",
   "name": "python",
   "nbconvert_exporter": "python",
   "pygments_lexer": "ipython3",
   "version": "3.7.3"
  }
 },
 "nbformat": 4,
 "nbformat_minor": 2
}
